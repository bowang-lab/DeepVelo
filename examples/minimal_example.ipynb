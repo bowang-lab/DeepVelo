{
 "cells": [
  {
   "cell_type": "markdown",
   "metadata": {},
   "source": [
    "Let's start by loading the necessary libraries, and setting some configuration options for reproducibility and visualization."
   ]
  },
  {
   "cell_type": "code",
   "execution_count": 1,
   "metadata": {},
   "outputs": [
    {
     "name": "stderr",
     "output_type": "stream",
     "text": [
      "/h/hmaan/miniconda3/envs/dvelo_py_38/lib/python3.8/site-packages/deepvelo/utils/plot.py:5: DeprecationWarning: deepvelo.utils.plot is deprecated. Please use deepvelo.plot.plot instead.\n",
      "  warnings.warn(\n"
     ]
    }
   ],
   "source": [
    "# %%\n",
    "#Import top level libraries, including the deepvelo package\n",
    "import numpy as np\n",
    "import scvelo as scv\n",
    "import torch\n",
    "\n",
    "from deepvelo.utils import velocity, update_dict\n",
    "from deepvelo.utils.preprocess import autoset_coeff_s\n",
    "from deepvelo.utils.plot import statplot, compare_plot\n",
    "from deepvelo import train, Constants\n",
    "\n",
    "# fix random seeds for reproducibility\n",
    "SEED = 123\n",
    "torch.manual_seed(SEED)\n",
    "torch.backends.cudnn.deterministic = True\n",
    "torch.backends.cudnn.benchmark = False\n",
    "np.random.seed(SEED)\n",
    "\n",
    "# set options for for visualization and verbosity\n",
    "scv.settings.verbosity = 3  # show errors(0), warnings(1), info(2), hints(3)\n",
    "scv.settings.set_figure_params(\n",
    "    \"scvelo\", transparent=False\n",
    ")  # for beautified visualization\n",
    "\n",
    "%load_ext autoreload\n",
    "%autoreload 2\n"
   ]
  },
  {
   "cell_type": "markdown",
   "metadata": {},
   "source": [
    "We're going to be using the Dentate Gyrus neurogenesis data from [La Manno et al. (2018)](https://doi.org/10.1038/s41586-018-0414-6) in this example. Start by loading and preprocessing the data."
   ]
  },
  {
   "cell_type": "code",
   "execution_count": 2,
   "metadata": {},
   "outputs": [
    {
     "name": "stdout",
     "output_type": "stream",
     "text": [
      "Filtered out 18710 genes that are detected 20 counts (shared).\n",
      "Normalized count data: X, spliced, unspliced.\n",
      "Extracted 2000 highly variable genes.\n",
      "Logarithmized X.\n",
      "computing neighbors\n",
      "    finished (0:00:26) --> added \n",
      "    'distances' and 'connectivities', weighted adjacency matrices (adata.obsp)\n",
      "computing moments based on connectivities\n",
      "    finished (0:00:03) --> added \n",
      "    'Ms' and 'Mu', moments of un/spliced abundances (adata.layers)\n"
     ]
    }
   ],
   "source": [
    "adata = scv.datasets.dentategyrus_lamanno()\n",
    "scv.pp.filter_and_normalize(adata, min_shared_counts=20, n_top_genes=2000)\n",
    "scv.pp.moments(adata, n_neighbors=30, n_pcs=30)\n"
   ]
  },
  {
   "cell_type": "markdown",
   "metadata": {},
   "source": [
    "Now we're going to configure the DeepVelo model and name the experiment - we'll just call it DeepVelo for now. We're also going to empirically set the spliced correlation objective based on the data - this is recommended for best performance."
   ]
  },
  {
   "cell_type": "code",
   "execution_count": 3,
   "metadata": {},
   "outputs": [
    {
     "name": "stdout",
     "output_type": "stream",
     "text": [
      "The ratio of spliced reads is 75.4% (between 70% and 85%). Suggest using coeff_s 0.75.\n"
     ]
    }
   ],
   "source": [
    "configs = {\n",
    "    \"name\": \"DeepVelo\", # name of the experiment\n",
    "    \"loss\": {\"args\": {\"coeff_s\": autoset_coeff_s(adata)}} # Automatic setting of the spliced correlation objective\n",
    "}\n",
    "configs = update_dict(Constants.default_configs, configs)\n"
   ]
  },
  {
   "cell_type": "markdown",
   "metadata": {},
   "source": [
    "Now we can call the velocity and train methods to fit the model to the data. "
   ]
  },
  {
   "cell_type": "code",
   "execution_count": null,
   "metadata": {},
   "outputs": [
    {
     "name": "stdout",
     "output_type": "stream",
     "text": [
      "computing velocities\n",
      "    finished (0:00:09) --> added \n",
      "    'velocity', velocity vectors for each individual cell (adata.layers)\n",
      "Config Warning: Set to use GPU, but GPU version of DGL is not installed. Reset to use CPU instead.\n",
      "Warning: logging configuration file is not found in logger/logger_config.json.\n",
      "building graph\n"
     ]
    },
    {
     "name": "stderr",
     "output_type": "stream",
     "text": [
      "INFO:train:Beginning training of DeepVelo ...\n",
      "WARNING:trainer:Warning: visualization (Tensorboard) is configured to use, but currently not installed on this machine. Please install TensorboardX with 'pip install tensorboardx', upgrade PyTorch to version >= 1.1 to use 'torch.utils.tensorboard' or turn off the option in the 'config.json' file.\n"
     ]
    },
    {
     "name": "stdout",
     "output_type": "stream",
     "text": [
      "velo data shape: torch.Size([18213, 2000])\n"
     ]
    },
    {
     "name": "stderr",
     "output_type": "stream",
     "text": [
      "INFO:trainer:    epoch          : 1\n",
      "INFO:trainer:    time:          : 21.26166820526123\n",
      "INFO:trainer:    loss           : 80684.3046875\n",
      "INFO:trainer:    mse            : 0.942495584487915\n",
      "INFO:trainer:    epoch          : 2\n",
      "INFO:trainer:    time:          : 21.131349325180054\n",
      "INFO:trainer:    loss           : 16099.67578125\n",
      "INFO:trainer:    mse            : 0.6484971046447754\n",
      "INFO:trainer:    epoch          : 3\n",
      "INFO:trainer:    time:          : 21.7674458026886\n",
      "INFO:trainer:    loss           : 9191.4521484375\n",
      "INFO:trainer:    mse            : 0.6198839545249939\n",
      "INFO:trainer:    epoch          : 4\n",
      "INFO:trainer:    time:          : 22.867656230926514\n",
      "INFO:trainer:    loss           : 6672.14892578125\n",
      "INFO:trainer:    mse            : 0.6180376410484314\n",
      "INFO:trainer:    epoch          : 5\n",
      "INFO:trainer:    time:          : 23.165233373641968\n",
      "INFO:trainer:    loss           : 5399.71337890625\n",
      "INFO:trainer:    mse            : 0.6397435665130615\n",
      "INFO:trainer:    epoch          : 6\n",
      "INFO:trainer:    time:          : 23.299899339675903\n",
      "INFO:trainer:    loss           : 4641.85400390625\n",
      "INFO:trainer:    mse            : 0.655648410320282\n",
      "INFO:trainer:    epoch          : 7\n",
      "INFO:trainer:    time:          : 23.070889711380005\n",
      "INFO:trainer:    loss           : 4119.5205078125\n",
      "INFO:trainer:    mse            : 0.6404055953025818\n"
     ]
    }
   ],
   "source": [
    "# initial velocity\n",
    "velocity(adata, mask_zero=False)\n",
    "trainer = train(adata, configs)"
   ]
  },
  {
   "cell_type": "markdown",
   "metadata": {},
   "source": [
    "Now that the velocity calculation is complete, we can visualize the results. We'll start by visualizing the velocity field in the embedding space."
   ]
  },
  {
   "cell_type": "code",
   "execution_count": null,
   "metadata": {},
   "outputs": [],
   "source": [
    "# velocity plot\n",
    "scv.tl.velocity_graph(adata, n_jobs=8)\n",
    "scv.pl.velocity_embedding_stream(\n",
    "    adata,\n",
    "    basis=\"tsne\",\n",
    "    color=\"clusters\",\n",
    "    legend_fontsize=9,\n",
    "    dpi=150,  # increase dpi for higher resolution\n",
    ")\n"
   ]
  },
  {
   "cell_type": "markdown",
   "metadata": {},
   "source": [
    "We can further visualize the pseudotime estimated based on the velocity field, and plot this in the embedding space."
   ]
  },
  {
   "cell_type": "code",
   "execution_count": null,
   "metadata": {},
   "outputs": [],
   "source": [
    "scv.tl.velocity_pseudotime(adata)\n",
    "scv.pl.scatter(\n",
    "    adata,\n",
    "    color=\"velocity_pseudotime\",\n",
    "    cmap=\"gnuplot\",\n",
    "    dpi=150,\n",
    ")"
   ]
  },
  {
   "cell_type": "markdown",
   "metadata": {},
   "source": [
    "There are a number of other visualizations and analyses that can be performed - please see the rest of the examples from the paper.\n"
   ]
  },
  {
   "cell_type": "code",
   "execution_count": null,
   "metadata": {},
   "outputs": [],
   "source": []
  }
 ],
 "metadata": {
  "interpreter": {
   "hash": "c4a96b5b33e9918a79a56c93882e3be4fe6c52e21891fd42273b478ddcde2cd9"
  },
  "kernelspec": {
   "display_name": "deepvelo dep fixes",
   "language": "python",
   "name": "deepvelo_dep_fixes"
  },
  "language_info": {
   "codemirror_mode": {
    "name": "ipython",
    "version": 3
   },
   "file_extension": ".py",
   "mimetype": "text/x-python",
   "name": "python",
   "nbconvert_exporter": "python",
   "pygments_lexer": "ipython3",
   "version": "3.8.18"
  }
 },
 "nbformat": 4,
 "nbformat_minor": 2
}
